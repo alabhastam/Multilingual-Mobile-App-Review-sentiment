{
 "cells": [
  {
   "cell_type": "code",
   "execution_count": 1,
   "id": "16d88217",
   "metadata": {
    "_cell_guid": "b1076dfc-b9ad-4769-8c92-a6c4dae69d19",
    "_uuid": "8f2839f25d086af736a60e9eeb907d3b93b6e0e5",
    "execution": {
     "iopub.execute_input": "2025-08-16T13:27:22.878590Z",
     "iopub.status.busy": "2025-08-16T13:27:22.878253Z",
     "iopub.status.idle": "2025-08-16T13:27:24.915976Z",
     "shell.execute_reply": "2025-08-16T13:27:24.914955Z"
    },
    "papermill": {
     "duration": 2.044354,
     "end_time": "2025-08-16T13:27:24.917990",
     "exception": false,
     "start_time": "2025-08-16T13:27:22.873636",
     "status": "completed"
    },
    "tags": []
   },
   "outputs": [
    {
     "name": "stdout",
     "output_type": "stream",
     "text": [
      "/kaggle/input/multilingual-mobile-app-reviews-dataset-2025/multilingual_mobile_app_reviews_2025.csv\n"
     ]
    }
   ],
   "source": [
    "# This Python 3 environment comes with many helpful analytics libraries installed\n",
    "# It is defined by the kaggle/python Docker image: https://github.com/kaggle/docker-python\n",
    "# For example, here's several helpful packages to load\n",
    "\n",
    "import numpy as np # linear algebra\n",
    "import pandas as pd # data processing, CSV file I/O (e.g. pd.read_csv)\n",
    "\n",
    "# Input data files are available in the read-only \"../input/\" directory\n",
    "# For example, running this (by clicking run or pressing Shift+Enter) will list all files under the input directory\n",
    "\n",
    "import os\n",
    "for dirname, _, filenames in os.walk('/kaggle/input'):\n",
    "    for filename in filenames:\n",
    "        print(os.path.join(dirname, filename))\n",
    "\n",
    "# You can write up to 20GB to the current directory (/kaggle/working/) that gets preserved as output when you create a version using \"Save & Run All\" \n",
    "# You can also write temporary files to /kaggle/temp/, but they won't be saved outside of the current session"
   ]
  },
  {
   "cell_type": "markdown",
   "id": "2dcace8e",
   "metadata": {
    "papermill": {
     "duration": 0.002546,
     "end_time": "2025-08-16T13:27:24.923920",
     "exception": false,
     "start_time": "2025-08-16T13:27:24.921374",
     "status": "completed"
    },
    "tags": []
   },
   "source": [
    "# loading data and understanding about it"
   ]
  },
  {
   "cell_type": "code",
   "execution_count": 2,
   "id": "ed90d316",
   "metadata": {
    "execution": {
     "iopub.execute_input": "2025-08-16T13:27:24.930933Z",
     "iopub.status.busy": "2025-08-16T13:27:24.930410Z",
     "iopub.status.idle": "2025-08-16T13:27:24.981062Z",
     "shell.execute_reply": "2025-08-16T13:27:24.980088Z"
    },
    "papermill": {
     "duration": 0.056118,
     "end_time": "2025-08-16T13:27:24.982852",
     "exception": false,
     "start_time": "2025-08-16T13:27:24.926734",
     "status": "completed"
    },
    "tags": []
   },
   "outputs": [],
   "source": [
    "import pandas as pd\n",
    "DATA_PATH = \"/kaggle/input/multilingual-mobile-app-reviews-dataset-2025/multilingual_mobile_app_reviews_2025.csv\"\n",
    "df = pd.read_csv(DATA_PATH)"
   ]
  },
  {
   "cell_type": "code",
   "execution_count": 3,
   "id": "4be6857c",
   "metadata": {
    "execution": {
     "iopub.execute_input": "2025-08-16T13:27:24.990117Z",
     "iopub.status.busy": "2025-08-16T13:27:24.989740Z",
     "iopub.status.idle": "2025-08-16T13:27:24.996704Z",
     "shell.execute_reply": "2025-08-16T13:27:24.995810Z"
    },
    "papermill": {
     "duration": 0.012338,
     "end_time": "2025-08-16T13:27:24.998283",
     "exception": false,
     "start_time": "2025-08-16T13:27:24.985945",
     "status": "completed"
    },
    "tags": []
   },
   "outputs": [
    {
     "data": {
      "text/plain": [
       "(2514, 15)"
      ]
     },
     "execution_count": 3,
     "metadata": {},
     "output_type": "execute_result"
    }
   ],
   "source": [
    "df.shape"
   ]
  },
  {
   "cell_type": "code",
   "execution_count": 4,
   "id": "1adf53bd",
   "metadata": {
    "execution": {
     "iopub.execute_input": "2025-08-16T13:27:25.005855Z",
     "iopub.status.busy": "2025-08-16T13:27:25.005537Z",
     "iopub.status.idle": "2025-08-16T13:27:25.012250Z",
     "shell.execute_reply": "2025-08-16T13:27:25.011122Z"
    },
    "papermill": {
     "duration": 0.012603,
     "end_time": "2025-08-16T13:27:25.014143",
     "exception": false,
     "start_time": "2025-08-16T13:27:25.001540",
     "status": "completed"
    },
    "tags": []
   },
   "outputs": [
    {
     "data": {
      "text/plain": [
       "['review_id',\n",
       " 'user_id',\n",
       " 'app_name',\n",
       " 'app_category',\n",
       " 'review_text',\n",
       " 'review_language',\n",
       " 'rating',\n",
       " 'review_date',\n",
       " 'verified_purchase',\n",
       " 'device_type',\n",
       " 'num_helpful_votes',\n",
       " 'user_age',\n",
       " 'user_country',\n",
       " 'user_gender',\n",
       " 'app_version']"
      ]
     },
     "execution_count": 4,
     "metadata": {},
     "output_type": "execute_result"
    }
   ],
   "source": [
    "df.columns.tolist()"
   ]
  },
  {
   "cell_type": "markdown",
   "id": "3d356be9",
   "metadata": {
    "papermill": {
     "duration": 0.002517,
     "end_time": "2025-08-16T13:27:25.019782",
     "exception": false,
     "start_time": "2025-08-16T13:27:25.017265",
     "status": "completed"
    },
    "tags": []
   },
   "source": [
    "- We probably remove user_id, reveiw_id, depend on project goals we set in future. "
   ]
  },
  {
   "cell_type": "code",
   "execution_count": 5,
   "id": "dd542168",
   "metadata": {
    "execution": {
     "iopub.execute_input": "2025-08-16T13:27:25.027114Z",
     "iopub.status.busy": "2025-08-16T13:27:25.026716Z",
     "iopub.status.idle": "2025-08-16T13:27:25.062056Z",
     "shell.execute_reply": "2025-08-16T13:27:25.060830Z"
    },
    "papermill": {
     "duration": 0.041109,
     "end_time": "2025-08-16T13:27:25.063656",
     "exception": false,
     "start_time": "2025-08-16T13:27:25.022547",
     "status": "completed"
    },
    "tags": []
   },
   "outputs": [
    {
     "name": "stdout",
     "output_type": "stream",
     "text": [
      "<class 'pandas.core.frame.DataFrame'>\n",
      "RangeIndex: 2514 entries, 0 to 2513\n",
      "Data columns (total 15 columns):\n",
      " #   Column             Non-Null Count  Dtype  \n",
      "---  ------             --------------  -----  \n",
      " 0   review_id          2514 non-null   int64  \n",
      " 1   user_id            2514 non-null   int64  \n",
      " 2   app_name           2514 non-null   object \n",
      " 3   app_category       2514 non-null   object \n",
      " 4   review_text        2455 non-null   object \n",
      " 5   review_language    2514 non-null   object \n",
      " 6   rating             2477 non-null   float64\n",
      " 7   review_date        2514 non-null   object \n",
      " 8   verified_purchase  2514 non-null   bool   \n",
      " 9   device_type        2514 non-null   object \n",
      " 10  num_helpful_votes  2514 non-null   int64  \n",
      " 11  user_age           2514 non-null   float64\n",
      " 12  user_country       2473 non-null   object \n",
      " 13  user_gender        1927 non-null   object \n",
      " 14  app_version        2484 non-null   object \n",
      "dtypes: bool(1), float64(2), int64(3), object(9)\n",
      "memory usage: 277.6+ KB\n"
     ]
    }
   ],
   "source": [
    "df.info()"
   ]
  },
  {
   "cell_type": "markdown",
   "id": "a97ede7b",
   "metadata": {
    "papermill": {
     "duration": 0.002562,
     "end_time": "2025-08-16T13:27:25.069286",
     "exception": false,
     "start_time": "2025-08-16T13:27:25.066724",
     "status": "completed"
    },
    "tags": []
   },
   "source": [
    "- lots of objects in data set.We do not need to convert all of them to numeric."
   ]
  },
  {
   "cell_type": "code",
   "execution_count": 6,
   "id": "a2ae2e48",
   "metadata": {
    "execution": {
     "iopub.execute_input": "2025-08-16T13:27:25.076528Z",
     "iopub.status.busy": "2025-08-16T13:27:25.075845Z",
     "iopub.status.idle": "2025-08-16T13:27:25.104694Z",
     "shell.execute_reply": "2025-08-16T13:27:25.103569Z"
    },
    "papermill": {
     "duration": 0.034574,
     "end_time": "2025-08-16T13:27:25.106604",
     "exception": false,
     "start_time": "2025-08-16T13:27:25.072030",
     "status": "completed"
    },
    "tags": []
   },
   "outputs": [
    {
     "data": {
      "text/html": [
       "<div>\n",
       "<style scoped>\n",
       "    .dataframe tbody tr th:only-of-type {\n",
       "        vertical-align: middle;\n",
       "    }\n",
       "\n",
       "    .dataframe tbody tr th {\n",
       "        vertical-align: top;\n",
       "    }\n",
       "\n",
       "    .dataframe thead th {\n",
       "        text-align: right;\n",
       "    }\n",
       "</style>\n",
       "<table border=\"1\" class=\"dataframe\">\n",
       "  <thead>\n",
       "    <tr style=\"text-align: right;\">\n",
       "      <th></th>\n",
       "      <th>review_id</th>\n",
       "      <th>user_id</th>\n",
       "      <th>app_name</th>\n",
       "      <th>app_category</th>\n",
       "      <th>review_text</th>\n",
       "      <th>review_language</th>\n",
       "      <th>rating</th>\n",
       "      <th>review_date</th>\n",
       "      <th>verified_purchase</th>\n",
       "      <th>device_type</th>\n",
       "      <th>num_helpful_votes</th>\n",
       "      <th>user_age</th>\n",
       "      <th>user_country</th>\n",
       "      <th>user_gender</th>\n",
       "      <th>app_version</th>\n",
       "    </tr>\n",
       "  </thead>\n",
       "  <tbody>\n",
       "    <tr>\n",
       "      <th>0</th>\n",
       "      <td>1</td>\n",
       "      <td>1967825</td>\n",
       "      <td>MX Player</td>\n",
       "      <td>Travel &amp; Local</td>\n",
       "      <td>Qui doloribus consequuntur. Perspiciatis tempo...</td>\n",
       "      <td>no</td>\n",
       "      <td>1.3</td>\n",
       "      <td>2024-10-09 19:26:40</td>\n",
       "      <td>True</td>\n",
       "      <td>Android Tablet</td>\n",
       "      <td>65</td>\n",
       "      <td>14.0</td>\n",
       "      <td>China</td>\n",
       "      <td>Female</td>\n",
       "      <td>1.4</td>\n",
       "    </tr>\n",
       "    <tr>\n",
       "      <th>1</th>\n",
       "      <td>2</td>\n",
       "      <td>9242600</td>\n",
       "      <td>Tinder</td>\n",
       "      <td>Navigation</td>\n",
       "      <td>Great app but too many ads, consider premium v...</td>\n",
       "      <td>ru</td>\n",
       "      <td>1.6</td>\n",
       "      <td>2024-06-21 17:29:40</td>\n",
       "      <td>True</td>\n",
       "      <td>iPad</td>\n",
       "      <td>209</td>\n",
       "      <td>18.0</td>\n",
       "      <td>Germany</td>\n",
       "      <td>Male</td>\n",
       "      <td>8.9</td>\n",
       "    </tr>\n",
       "    <tr>\n",
       "      <th>2</th>\n",
       "      <td>3</td>\n",
       "      <td>7636477</td>\n",
       "      <td>Netflix</td>\n",
       "      <td>Dating</td>\n",
       "      <td>The interface could be better but overall good...</td>\n",
       "      <td>es</td>\n",
       "      <td>3.6</td>\n",
       "      <td>2024-10-31 13:47:12</td>\n",
       "      <td>True</td>\n",
       "      <td>iPad</td>\n",
       "      <td>163</td>\n",
       "      <td>67.0</td>\n",
       "      <td>Nigeria</td>\n",
       "      <td>Male</td>\n",
       "      <td>2.8.37.5926</td>\n",
       "    </tr>\n",
       "    <tr>\n",
       "      <th>3</th>\n",
       "      <td>4</td>\n",
       "      <td>209031</td>\n",
       "      <td>Venmo</td>\n",
       "      <td>Productivity</td>\n",
       "      <td>Latest update broke some features, please fix ...</td>\n",
       "      <td>vi</td>\n",
       "      <td>3.8</td>\n",
       "      <td>2025-03-12 06:16:22</td>\n",
       "      <td>True</td>\n",
       "      <td>iOS</td>\n",
       "      <td>664</td>\n",
       "      <td>66.0</td>\n",
       "      <td>India</td>\n",
       "      <td>Female</td>\n",
       "      <td>10.2</td>\n",
       "    </tr>\n",
       "    <tr>\n",
       "      <th>4</th>\n",
       "      <td>5</td>\n",
       "      <td>7190293</td>\n",
       "      <td>Google Drive</td>\n",
       "      <td>Education</td>\n",
       "      <td>Perfect for daily use, highly recommend to eve...</td>\n",
       "      <td>tl</td>\n",
       "      <td>3.2</td>\n",
       "      <td>2024-04-21 03:48:27</td>\n",
       "      <td>True</td>\n",
       "      <td>iPad</td>\n",
       "      <td>1197</td>\n",
       "      <td>40.0</td>\n",
       "      <td>South Korea</td>\n",
       "      <td>Prefer not to say</td>\n",
       "      <td>4.7</td>\n",
       "    </tr>\n",
       "  </tbody>\n",
       "</table>\n",
       "</div>"
      ],
      "text/plain": [
       "   review_id  user_id      app_name    app_category  \\\n",
       "0          1  1967825     MX Player  Travel & Local   \n",
       "1          2  9242600        Tinder      Navigation   \n",
       "2          3  7636477       Netflix          Dating   \n",
       "3          4   209031         Venmo    Productivity   \n",
       "4          5  7190293  Google Drive       Education   \n",
       "\n",
       "                                         review_text review_language  rating  \\\n",
       "0  Qui doloribus consequuntur. Perspiciatis tempo...              no     1.3   \n",
       "1  Great app but too many ads, consider premium v...              ru     1.6   \n",
       "2  The interface could be better but overall good...              es     3.6   \n",
       "3  Latest update broke some features, please fix ...              vi     3.8   \n",
       "4  Perfect for daily use, highly recommend to eve...              tl     3.2   \n",
       "\n",
       "           review_date  verified_purchase     device_type  num_helpful_votes  \\\n",
       "0  2024-10-09 19:26:40               True  Android Tablet                 65   \n",
       "1  2024-06-21 17:29:40               True            iPad                209   \n",
       "2  2024-10-31 13:47:12               True            iPad                163   \n",
       "3  2025-03-12 06:16:22               True             iOS                664   \n",
       "4  2024-04-21 03:48:27               True            iPad               1197   \n",
       "\n",
       "   user_age user_country        user_gender  app_version  \n",
       "0      14.0        China             Female          1.4  \n",
       "1      18.0      Germany               Male          8.9  \n",
       "2      67.0      Nigeria               Male  2.8.37.5926  \n",
       "3      66.0        India             Female         10.2  \n",
       "4      40.0  South Korea  Prefer not to say          4.7  "
      ]
     },
     "execution_count": 6,
     "metadata": {},
     "output_type": "execute_result"
    }
   ],
   "source": [
    "df.head()"
   ]
  },
  {
   "cell_type": "markdown",
   "id": "b3b4d25f",
   "metadata": {
    "papermill": {
     "duration": 0.003275,
     "end_time": "2025-08-16T13:27:25.113839",
     "exception": false,
     "start_time": "2025-08-16T13:27:25.110564",
     "status": "completed"
    },
    "tags": []
   },
   "source": [
    "- I see some problems in the first 5 rows, like Netflix categories and ....... but anyway, we are gonna work on this just for fun and practice."
   ]
  },
  {
   "cell_type": "code",
   "execution_count": 7,
   "id": "a083f344",
   "metadata": {
    "execution": {
     "iopub.execute_input": "2025-08-16T13:27:25.121960Z",
     "iopub.status.busy": "2025-08-16T13:27:25.121584Z",
     "iopub.status.idle": "2025-08-16T13:27:25.136335Z",
     "shell.execute_reply": "2025-08-16T13:27:25.135167Z"
    },
    "papermill": {
     "duration": 0.020563,
     "end_time": "2025-08-16T13:27:25.138071",
     "exception": false,
     "start_time": "2025-08-16T13:27:25.117508",
     "status": "completed"
    },
    "tags": []
   },
   "outputs": [
    {
     "name": "stdout",
     "output_type": "stream",
     "text": [
      "==== Sample Reviews by Language ====\n",
      "   review_language                                        review_text\n",
      "0               no  Qui doloribus consequuntur. Perspiciatis tempo...\n",
      "1               ru  Great app but too many ads, consider premium v...\n",
      "2               es  The interface could be better but overall good...\n",
      "3               vi  Latest update broke some features, please fix ...\n",
      "4               tl  Perfect for daily use, highly recommend to eve...\n",
      "5               th  Works perfectly on my device, no complaints at...\n",
      "6               da  Basso bello società paese. Quello mostrare verso.\n",
      "7               ja  Odcinek skład zarówno zgodnie zaś. Powoli gdyb...\n",
      "8               ms  Eius odio facilis fuga distinctio eaque. Non c...\n",
      "9               fr       Husband at tree note responsibility defense.\n",
      "10              it  Works perfectly on my device, no complaints at...\n",
      "11              nl  The interface could be better but overall good...\n",
      "13              hi  Some bugs need fixing but generally satisfied ...\n",
      "14              ar  Latest update broke some features, please fix ...\n",
      "16              zh  Sorprendere circa collo. Organizzare giudizio ...\n",
      "19              id  Voluptas quis magni autem numquam. Non corrupt...\n",
      "21              pl  Great app but too many ads, consider premium v...\n",
      "27              ko  Works perfectly on my device, no complaints at...\n",
      "33              sv  Some bugs need fixing but generally satisfied ...\n",
      "35              pt  Perfect for daily use, highly recommend to eve...\n",
      "47              tr  Some bugs need fixing but generally satisfied ...\n",
      "52              fi  Works perfectly on my device, no complaints at...\n",
      "55              de  Some bugs need fixing but generally satisfied ...\n",
      "58              en  Excellent customer support and regular feature...\n"
     ]
    }
   ],
   "source": [
    "if 'review_language' in df.columns:\n",
    "    print(\"==== Sample Reviews by Language ====\")\n",
    "    print(df.groupby('review_language').head(1)[['review_language', 'review_text']])"
   ]
  }
 ],
 "metadata": {
  "kaggle": {
   "accelerator": "none",
   "dataSources": [
    {
     "datasetId": 7978540,
     "sourceId": 12627315,
     "sourceType": "datasetVersion"
    }
   ],
   "dockerImageVersionId": 31089,
   "isGpuEnabled": false,
   "isInternetEnabled": true,
   "language": "python",
   "sourceType": "notebook"
  },
  "kernelspec": {
   "display_name": "Python 3",
   "language": "python",
   "name": "python3"
  },
  "language_info": {
   "codemirror_mode": {
    "name": "ipython",
    "version": 3
   },
   "file_extension": ".py",
   "mimetype": "text/x-python",
   "name": "python",
   "nbconvert_exporter": "python",
   "pygments_lexer": "ipython3",
   "version": "3.11.13"
  },
  "papermill": {
   "default_parameters": {},
   "duration": 9.277451,
   "end_time": "2025-08-16T13:27:25.762922",
   "environment_variables": {},
   "exception": null,
   "input_path": "__notebook__.ipynb",
   "output_path": "__notebook__.ipynb",
   "parameters": {},
   "start_time": "2025-08-16T13:27:16.485471",
   "version": "2.6.0"
  }
 },
 "nbformat": 4,
 "nbformat_minor": 5
}
